{
 "cells": [
  {
   "cell_type": "markdown",
   "metadata": {},
   "source": [
    "## Apache Iceberg com pySpark"
   ]
  },
  {
   "cell_type": "markdown",
   "metadata": {},
   "source": [
    "### Iniciando container:\n",
    "Abra o docker desktop para iniciar a docker engine e use esse comando no terminal (neste diretório) pra iniciar um container do docker com as configurações do arquivo docker-compose.yml:\n",
    "\n",
    "```docker-compose up```"
   ]
  },
  {
   "cell_type": "markdown",
   "metadata": {},
   "source": [
    "### Iniciando sessão do Spark\n",
    "Após a inicialização do container, use esse comando no terminal para iniciar a sessão do pyspark:\n",
    "\n",
    "```docker exec -it spark-iceberg pyspark```"
   ]
  },
  {
   "cell_type": "markdown",
   "metadata": {},
   "source": [
    "### Criando uma tabela\n",
    "Rode o bloco de código a seguir para criar uma tabela com o comando salvo no arquivo comando-criar-tabela.txt. <br>\n",
    "O arquivo contem um script importando os tipos o do pyspark e criando um esboço para o DataFrame, usada pelo método spark.createDataFrame para criar um DataFrame vazio que em seguida é escrito na tabela \"SRAG2024\" do banco \"OpenDatasus\" no catálogo \"demo\"."
   ]
  },
  {
   "cell_type": "code",
   "execution_count": 1,
   "metadata": {},
   "outputs": [],
   "source": [
    "with open('comando-criar-tabela.txt', 'r') as arquivo:\n",
    "    comando_criar_tabela = arquivo.read()\n",
    "exec(comando_criar_tabela)"
   ]
  },
  {
   "cell_type": "markdown",
   "metadata": {},
   "source": [
    "### Inserindo dados na tabela\n",
    "Rode o bloco de código a seguir para inserir dados na tabela com o comando salvo no arquivo comando-inserir.txt. <br>\n",
    "O arquivo contem um script criando um spark DataFrame usando o schema da tabela com os dados a serem inseridos e usa o método df.writeTo(\"demo.OpenDatasus.SRAG2024\").append() para adicionar os dados do dataframe na tabela."
   ]
  },
  {
   "cell_type": "code",
   "execution_count": 2,
   "metadata": {},
   "outputs": [],
   "source": [
    "with open('comando-insert.txt', 'r') as arquivo:\n",
    "    comando_insert = arquivo.read()\n",
    "exec(comando_insert)"
   ]
  },
  {
   "cell_type": "markdown",
   "metadata": {},
   "source": [
    "Caso deseje inserir mais dados na tabela, você pode usar modificar o seguinte bloco de código (o número de dados nas linhas deve ser equivalente ao número de colunas):"
   ]
  },
  {
   "cell_type": "code",
   "execution_count": null,
   "metadata": {},
   "outputs": [],
   "source": [
    "schema = spark.table(\"demo.OpenDatasus.SRAG2024\").schema\n",
    "\n",
    "data = [\n",
    "    (\"dado\", \"dado\", \"dado\"), # linha 1\n",
    "    (\"dado\", \"dado\", \"dado\") # linha n\n",
    "  ]\n",
    "df = spark.createDataFrame(data, schema)\n",
    "df.writeTo(\"demo.OpenDatasus.SRAG2024\").append()"
   ]
  },
  {
   "cell_type": "markdown",
   "metadata": {},
   "source": [
    "### Visualizando tabela:"
   ]
  },
  {
   "cell_type": "code",
   "execution_count": null,
   "metadata": {},
   "outputs": [],
   "source": [
    "df = spark.table(\"demo.OpenDatasus.SRAG2024\").show()"
   ]
  },
  {
   "cell_type": "markdown",
   "metadata": {},
   "source": [
    "### Atualizando dados da tabela:"
   ]
  },
  {
   "cell_type": "code",
   "execution_count": null,
   "metadata": {},
   "outputs": [],
   "source": [
    "spark.sql(\"UPDATE demo.OpenDatasus.SRAG2024 SET ID_MUNICIP = 'Criciuma' WHERE ID_MUNICIP = 'CRICIUMA'\")"
   ]
  },
  {
   "cell_type": "markdown",
   "metadata": {},
   "source": [
    "### Apagando dados da tabela"
   ]
  },
  {
   "cell_type": "code",
   "execution_count": null,
   "metadata": {},
   "outputs": [],
   "source": [
    "spark.sql(\"DELETE FROM demo.OpenDatasus.SRAG2024 WHERE ID_MUNICIP = 'Criciuma'\")"
   ]
  },
  {
   "cell_type": "markdown",
   "metadata": {},
   "source": [
    "### Alterando uma tabela:"
   ]
  },
  {
   "cell_type": "code",
   "execution_count": null,
   "metadata": {},
   "outputs": [],
   "source": [
    "spark.sql(\"ALTER TABLE demo.OpenDatasus.SRAG2024 ADD COLUMNS (nova_coluna STRING)\")"
   ]
  },
  {
   "cell_type": "markdown",
   "metadata": {},
   "source": [
    "### Apagando uma tabela:"
   ]
  },
  {
   "cell_type": "code",
   "execution_count": null,
   "metadata": {},
   "outputs": [],
   "source": [
    "spark.sql(\"DROP TABLE IF EXISTS demo.OpenDatasus.SRAG2024\")"
   ]
  }
 ],
 "metadata": {
  "kernelspec": {
   "display_name": "Python 3",
   "language": "python",
   "name": "python3"
  },
  "language_info": {
   "codemirror_mode": {
    "name": "ipython",
    "version": 3
   },
   "file_extension": ".py",
   "mimetype": "text/x-python",
   "name": "python",
   "nbconvert_exporter": "python",
   "pygments_lexer": "ipython3",
   "version": "3.12.2"
  }
 },
 "nbformat": 4,
 "nbformat_minor": 2
}
